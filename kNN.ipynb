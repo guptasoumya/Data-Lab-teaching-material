{
 "cells": [
  {
   "cell_type": "markdown",
   "metadata": {},
   "source": [
    "# KNN\n",
    " First we need to import the relevant libraries, namely the dataset, Python's numpy, a graphing library, and the machine learning library scikit-learn"
   ]
  },
  {
   "cell_type": "code",
   "execution_count": 2,
   "metadata": {},
   "outputs": [],
   "source": [
    "from sklearn.datasets import load_boston\n",
    "import numpy as np\n",
    "import matplotlib.pyplot as plt\n",
    "from sklearn.utils import shuffle\n",
    "from sklearn.metrics import mean_squared_error\n",
    "from sklearn.model_selection import train_test_split\n",
    "from sklearn import neighbors, preprocessing\n",
    "from sklearn.model_selection import GridSearchCV"
   ]
  },
  {
   "cell_type": "code",
   "execution_count": 3,
   "metadata": {},
   "outputs": [],
   "source": [
    "np.random.seed(1)"
   ]
  },
  {
   "cell_type": "markdown",
   "metadata": {},
   "source": [
    "# Regression\n",
    "The Boston dataset was originally devised for regression, so we'll first show a simple regression model in scikit-learn\n",
    "\n",
    "### Basic single model:\n",
    "Let's load the data and split into training and testing portions"
   ]
  },
  {
   "cell_type": "code",
   "execution_count": 4,
   "metadata": {},
   "outputs": [],
   "source": [
    "boston = load_boston()"
   ]
  },
  {
   "cell_type": "code",
   "execution_count": 5,
   "metadata": {},
   "outputs": [
    {
     "data": {
      "text/plain": [
       "(506, 13)"
      ]
     },
     "execution_count": 5,
     "metadata": {},
     "output_type": "execute_result"
    }
   ],
   "source": [
    "boston.data.shape"
   ]
  },
  {
   "cell_type": "code",
   "execution_count": 6,
   "metadata": {},
   "outputs": [
    {
     "data": {
      "text/plain": [
       "(506,)"
      ]
     },
     "execution_count": 6,
     "metadata": {},
     "output_type": "execute_result"
    }
   ],
   "source": [
    "boston.target.shape"
   ]
  },
  {
   "cell_type": "code",
   "execution_count": 7,
   "metadata": {},
   "outputs": [
    {
     "data": {
      "text/plain": [
       "['Boston House Prices dataset',\n",
       " '===========================',\n",
       " '',\n",
       " 'Notes',\n",
       " '------',\n",
       " 'Data Set Characteristics:  ',\n",
       " '',\n",
       " '    :Number of Instances: 506 ',\n",
       " '',\n",
       " '    :Number of Attributes: 13 numeric/categorical predictive',\n",
       " '    ',\n",
       " '    :Median Value (attribute 14) is usually the target',\n",
       " '',\n",
       " '    :Attribute Information (in order):',\n",
       " '        - CRIM     per capita crime rate by town',\n",
       " '        - ZN       proportion of residential land zoned for lots over 25,000 sq.ft.',\n",
       " '        - INDUS    proportion of non-retail business acres per town',\n",
       " '        - CHAS     Charles River dummy variable (= 1 if tract bounds river; 0 otherwise)',\n",
       " '        - NOX      nitric oxides concentration (parts per 10 million)',\n",
       " '        - RM       average number of rooms per dwelling',\n",
       " '        - AGE      proportion of owner-occupied units built prior to 1940',\n",
       " '        - DIS      weighted distances to five Boston employment centres',\n",
       " '        - RAD      index of accessibility to radial highways',\n",
       " '        - TAX      full-value property-tax rate per $10,000',\n",
       " '        - PTRATIO  pupil-teacher ratio by town',\n",
       " '        - B        1000(Bk - 0.63)^2 where Bk is the proportion of blacks by town',\n",
       " '        - LSTAT    % lower status of the population',\n",
       " \"        - MEDV     Median value of owner-occupied homes in $1000's\",\n",
       " '',\n",
       " '    :Missing Attribute Values: None',\n",
       " '',\n",
       " '    :Creator: Harrison, D. and Rubinfeld, D.L.',\n",
       " '',\n",
       " 'This is a copy of UCI ML housing dataset.',\n",
       " 'http://archive.ics.uci.edu/ml/datasets/Housing',\n",
       " '',\n",
       " '',\n",
       " 'This dataset was taken from the StatLib library which is maintained at Carnegie Mellon University.',\n",
       " '',\n",
       " \"The Boston house-price data of Harrison, D. and Rubinfeld, D.L. 'Hedonic\",\n",
       " \"prices and the demand for clean air', J. Environ. Economics & Management,\",\n",
       " \"vol.5, 81-102, 1978.   Used in Belsley, Kuh & Welsch, 'Regression diagnostics\",\n",
       " \"...', Wiley, 1980.   N.B. Various transformations are used in the table on\",\n",
       " 'pages 244-261 of the latter.',\n",
       " '',\n",
       " 'The Boston house-price data has been used in many machine learning papers that address regression',\n",
       " 'problems.   ',\n",
       " '     ',\n",
       " '**References**',\n",
       " '',\n",
       " \"   - Belsley, Kuh & Welsch, 'Regression diagnostics: Identifying Influential Data and Sources of Collinearity', Wiley, 1980. 244-261.\",\n",
       " '   - Quinlan,R. (1993). Combining Instance-Based and Model-Based Learning. In Proceedings on the Tenth International Conference of Machine Learning, 236-243, University of Massachusetts, Amherst. Morgan Kaufmann.',\n",
       " '   - many more! (see http://archive.ics.uci.edu/ml/datasets/Housing)',\n",
       " '']"
      ]
     },
     "execution_count": 7,
     "metadata": {},
     "output_type": "execute_result"
    }
   ],
   "source": [
    "boston.DESCR.split('\\n')"
   ]
  },
  {
   "cell_type": "code",
   "execution_count": 43,
   "metadata": {},
   "outputs": [
    {
     "data": {
      "image/png": "[encoded data removed]",
      "text/plain": [
       "<matplotlib.figure.Figure at 0x1a0958de10>"
      ]
     },
     "metadata": {},
     "output_type": "display_data"
    }
   ],
   "source": [
    "plt.hist(boston.target, bins=45)\n",
    "plt.xlabel('Median Value of Houses $1000s')\n",
    "plt.ylabel('Count of Houses')\n",
    "plt.show()"
   ]
  },
  {
   "cell_type": "code",
   "execution_count": 8,
   "metadata": {},
   "outputs": [],
   "source": [
    "X, y = shuffle(boston.data, boston.target, random_state=1)"
   ]
  },
  {
   "cell_type": "code",
   "execution_count": 9,
   "metadata": {},
   "outputs": [],
   "source": [
    "X_train, X_test, y_train, y_test = train_test_split(X, y, train_size=0.8, test_size=0.2)"
   ]
  },
  {
   "cell_type": "code",
   "execution_count": 10,
   "metadata": {},
   "outputs": [
    {
     "data": {
      "text/plain": [
       "array([[   2.63548,    0.     ,    9.9    , ...,   18.4    ,  350.45   ,\n",
       "          12.64   ],\n",
       "       [   9.18702,    0.     ,   18.1    , ...,   20.2    ,  396.9    ,\n",
       "          23.6    ],\n",
       "       [  13.3598 ,    0.     ,   18.1    , ...,   20.2    ,  396.9    ,\n",
       "          16.35   ],\n",
       "       ..., \n",
       "       [   0.5405 ,   20.     ,    3.97   , ...,   13.     ,  390.3    ,\n",
       "           3.16   ],\n",
       "       [   0.76162,   20.     ,    3.97   , ...,   13.     ,  392.4    ,\n",
       "          10.45   ],\n",
       "       [   0.67191,    0.     ,    8.14   , ...,   21.     ,  376.88   ,\n",
       "          14.81   ]])"
      ]
     },
     "execution_count": 10,
     "metadata": {},
     "output_type": "execute_result"
    }
   ],
   "source": [
    "X_test"
   ]
  },
  {
   "cell_type": "code",
   "execution_count": 11,
   "metadata": {},
   "outputs": [],
   "source": [
    "scaler = preprocessing.StandardScaler().fit(X_train)\n",
    "X_train = scaler.transform(X_train)\n",
    "X_test = scaler.transform(X_test)"
   ]
  },
  {
   "cell_type": "code",
   "execution_count": 12,
   "metadata": {},
   "outputs": [
    {
     "data": {
      "text/plain": [
       "array([[-0.11747736, -0.46822579, -0.21029151, ..., -0.07173937,\n",
       "        -0.06607884, -0.04750103],\n",
       "       [ 0.62084318, -0.46822579,  1.00035377, ...,  0.78771486,\n",
       "         0.44211869,  1.47848722],\n",
       "       [ 1.09109127, -0.46822579,  1.00035377, ...,  0.78771486,\n",
       "         0.44211869,  0.46905156],\n",
       "       ..., \n",
       "       [-0.35356944,  0.44252634, -1.08579474, ..., -2.65010207,\n",
       "         0.36990979, -1.36742517],\n",
       "       [-0.3286505 ,  0.44252634, -1.08579474, ..., -2.65010207,\n",
       "         0.39288535, -0.35242022],\n",
       "       [-0.3387603 , -0.46822579, -0.47013733, ...,  1.16969452,\n",
       "         0.22308501,  0.25463351]])"
      ]
     },
     "execution_count": 12,
     "metadata": {},
     "output_type": "execute_result"
    }
   ],
   "source": [
    "X_test"
   ]
  },
  {
   "cell_type": "code",
   "execution_count": 13,
   "metadata": {},
   "outputs": [
    {
     "data": {
      "text/plain": [
       "array([-0.11747736, -0.46822579, -0.21029151, -0.27288841, -0.10988619,\n",
       "       -1.89052546, -1.14330694, -0.58949122, -0.63415704, -0.61233513,\n",
       "       -0.07173937, -0.06607884, -0.04750103])"
      ]
     },
     "execution_count": 13,
     "metadata": {},
     "output_type": "execute_result"
    }
   ],
   "source": [
    "X_test[0]"
   ]
  },
  {
   "cell_type": "markdown",
   "metadata": {},
   "source": [
    "#### We'll keep with how we determined k in R, by taking the square root of the number of observations"
   ]
  },
  {
   "cell_type": "code",
   "execution_count": 14,
   "metadata": {},
   "outputs": [
    {
     "name": "stdout",
     "output_type": "stream",
     "text": [
      "k: 20\n"
     ]
    }
   ],
   "source": [
    "k = int(len(X_train) ** (1/2))\n",
    "print(\"k: \" + str(k))"
   ]
  },
  {
   "cell_type": "markdown",
   "metadata": {},
   "source": [
    "#### We now define the parameters for the model, and given them to the model object, fit the model to the data, and calculate the MSE on the testing data"
   ]
  },
  {
   "cell_type": "code",
   "execution_count": 15,
   "metadata": {},
   "outputs": [
    {
     "name": "stdout",
     "output_type": "stream",
     "text": [
      "MSE: 24.98\n",
      "0.736265561435\n"
     ]
    }
   ],
   "source": [
    "params = {'n_neighbors': k, 'weights': \"uniform\"}\n",
    "\n",
    "kkn_r = neighbors.KNeighborsRegressor(**params)\n",
    "\n",
    "kkn_r.fit(X_train, y_train)\n",
    "mse = mean_squared_error(y_test, kkn_r.predict(X_test))\n",
    "print(\"MSE: %.2f\" % mse)\n",
    "print(kkn_r.score(X_test, y_test))"
   ]
  },
  {
   "cell_type": "code",
   "execution_count": 37,
   "metadata": {},
   "outputs": [],
   "source": [
    "kkn_r.score?"
   ]
  },
  {
   "cell_type": "markdown",
   "metadata": {},
   "source": [
    "# Grid search:\n",
    "A more thorough analysis allows for checking multiple values for any parameter, let's look for the best model by looking at a range of values for k"
   ]
  },
  {
   "cell_type": "code",
   "execution_count": 17,
   "metadata": {},
   "outputs": [
    {
     "data": {
      "text/plain": [
       "GridSearchCV(cv=None, error_score='raise',\n",
       "       estimator=KNeighborsRegressor(algorithm='auto', leaf_size=30, metric='minkowski',\n",
       "          metric_params=None, n_jobs=1, n_neighbors=5, p=2,\n",
       "          weights='uniform'),\n",
       "       fit_params=None, iid=True, n_jobs=1,\n",
       "       param_grid={'n_neighbors': array([ 1,  2,  3,  4,  5,  6,  7,  8,  9, 10, 11, 12, 13, 14, 15, 16, 17,\n",
       "       18, 19, 20, 21, 22, 23, 24, 25, 26, 27, 28, 29]), 'weights': ['uniform', 'distance']},\n",
       "       pre_dispatch='2*n_jobs', refit=True, return_train_score='warn',\n",
       "       scoring=None, verbose=0)"
      ]
     },
     "execution_count": 17,
     "metadata": {},
     "output_type": "execute_result"
    }
   ],
   "source": [
    "from sklearn.model_selection import GridSearchCV\n",
    "\n",
    "param_grid = {'n_neighbors': np.arange(1, int(k+(k/2)), 1),\n",
    "              'weights': [\"uniform\", \"distance\"]}\n",
    "\n",
    "knn_r = GridSearchCV(neighbors.KNeighborsRegressor(), param_grid)\n",
    "knn_r.fit(X_train, y_train)"
   ]
  },
  {
   "cell_type": "code",
   "execution_count": 18,
   "metadata": {},
   "outputs": [],
   "source": [
    "GridSearchCV?"
   ]
  },
  {
   "cell_type": "code",
   "execution_count": 19,
   "metadata": {},
   "outputs": [
    {
     "data": {
      "text/plain": [
       "array([ 1,  2,  3,  4,  5,  6,  7,  8,  9, 10, 11, 12, 13, 14, 15, 16, 17,\n",
       "       18, 19, 20, 21, 22, 23, 24, 25, 26, 27, 28, 29])"
      ]
     },
     "execution_count": 19,
     "metadata": {},
     "output_type": "execute_result"
    }
   ],
   "source": [
    "np.arange(1, int(k+(k/2)),1)"
   ]
  },
  {
   "cell_type": "markdown",
   "metadata": {},
   "source": [
    "#### The cross-validated results come in the form of a dictionary with the following keys"
   ]
  },
  {
   "cell_type": "code",
   "execution_count": 20,
   "metadata": {},
   "outputs": [
    {
     "data": {
      "text/plain": [
       "['mean_fit_time',\n",
       " 'mean_score_time',\n",
       " 'mean_test_score',\n",
       " 'mean_train_score',\n",
       " 'param_n_neighbors',\n",
       " 'param_weights',\n",
       " 'params',\n",
       " 'rank_test_score',\n",
       " 'split0_test_score',\n",
       " 'split0_train_score',\n",
       " 'split1_test_score',\n",
       " 'split1_train_score',\n",
       " 'split2_test_score',\n",
       " 'split2_train_score',\n",
       " 'std_fit_time',\n",
       " 'std_score_time',\n",
       " 'std_test_score',\n",
       " 'std_train_score']"
      ]
     },
     "execution_count": 20,
     "metadata": {},
     "output_type": "execute_result"
    }
   ],
   "source": [
    "sorted(knn_r.cv_results_.keys())"
   ]
  },
  {
   "cell_type": "code",
   "execution_count": 21,
   "metadata": {},
   "outputs": [
    {
     "data": {
      "text/plain": [
       "KNeighborsRegressor(algorithm='auto', leaf_size=30, metric='minkowski',\n",
       "          metric_params=None, n_jobs=1, n_neighbors=3, p=2,\n",
       "          weights='distance')"
      ]
     },
     "execution_count": 21,
     "metadata": {},
     "output_type": "execute_result"
    }
   ],
   "source": [
    "knn_r.best_estimator_"
   ]
  },
  {
   "cell_type": "code",
   "execution_count": 22,
   "metadata": {},
   "outputs": [
    {
     "data": {
      "text/plain": [
       "{'n_neighbors': 3, 'weights': 'distance'}"
      ]
     },
     "execution_count": 22,
     "metadata": {},
     "output_type": "execute_result"
    }
   ],
   "source": [
    "knn_r.best_params_"
   ]
  },
  {
   "cell_type": "markdown",
   "metadata": {},
   "source": [
    "#### If we want to know explicitly which parameter combinations were computed, we can check the params key"
   ]
  },
  {
   "cell_type": "code",
   "execution_count": 23,
   "metadata": {},
   "outputs": [
    {
     "data": {
      "text/plain": [
       "[{'n_neighbors': 1, 'weights': 'uniform'},\n",
       " {'n_neighbors': 1, 'weights': 'distance'},\n",
       " {'n_neighbors': 2, 'weights': 'uniform'},\n",
       " {'n_neighbors': 2, 'weights': 'distance'},\n",
       " {'n_neighbors': 3, 'weights': 'uniform'},\n",
       " {'n_neighbors': 3, 'weights': 'distance'},\n",
       " {'n_neighbors': 4, 'weights': 'uniform'},\n",
       " {'n_neighbors': 4, 'weights': 'distance'},\n",
       " {'n_neighbors': 5, 'weights': 'uniform'},\n",
       " {'n_neighbors': 5, 'weights': 'distance'},\n",
       " {'n_neighbors': 6, 'weights': 'uniform'},\n",
       " {'n_neighbors': 6, 'weights': 'distance'},\n",
       " {'n_neighbors': 7, 'weights': 'uniform'},\n",
       " {'n_neighbors': 7, 'weights': 'distance'},\n",
       " {'n_neighbors': 8, 'weights': 'uniform'},\n",
       " {'n_neighbors': 8, 'weights': 'distance'},\n",
       " {'n_neighbors': 9, 'weights': 'uniform'},\n",
       " {'n_neighbors': 9, 'weights': 'distance'},\n",
       " {'n_neighbors': 10, 'weights': 'uniform'},\n",
       " {'n_neighbors': 10, 'weights': 'distance'},\n",
       " {'n_neighbors': 11, 'weights': 'uniform'},\n",
       " {'n_neighbors': 11, 'weights': 'distance'},\n",
       " {'n_neighbors': 12, 'weights': 'uniform'},\n",
       " {'n_neighbors': 12, 'weights': 'distance'},\n",
       " {'n_neighbors': 13, 'weights': 'uniform'},\n",
       " {'n_neighbors': 13, 'weights': 'distance'},\n",
       " {'n_neighbors': 14, 'weights': 'uniform'},\n",
       " {'n_neighbors': 14, 'weights': 'distance'},\n",
       " {'n_neighbors': 15, 'weights': 'uniform'},\n",
       " {'n_neighbors': 15, 'weights': 'distance'},\n",
       " {'n_neighbors': 16, 'weights': 'uniform'},\n",
       " {'n_neighbors': 16, 'weights': 'distance'},\n",
       " {'n_neighbors': 17, 'weights': 'uniform'},\n",
       " {'n_neighbors': 17, 'weights': 'distance'},\n",
       " {'n_neighbors': 18, 'weights': 'uniform'},\n",
       " {'n_neighbors': 18, 'weights': 'distance'},\n",
       " {'n_neighbors': 19, 'weights': 'uniform'},\n",
       " {'n_neighbors': 19, 'weights': 'distance'},\n",
       " {'n_neighbors': 20, 'weights': 'uniform'},\n",
       " {'n_neighbors': 20, 'weights': 'distance'},\n",
       " {'n_neighbors': 21, 'weights': 'uniform'},\n",
       " {'n_neighbors': 21, 'weights': 'distance'},\n",
       " {'n_neighbors': 22, 'weights': 'uniform'},\n",
       " {'n_neighbors': 22, 'weights': 'distance'},\n",
       " {'n_neighbors': 23, 'weights': 'uniform'},\n",
       " {'n_neighbors': 23, 'weights': 'distance'},\n",
       " {'n_neighbors': 24, 'weights': 'uniform'},\n",
       " {'n_neighbors': 24, 'weights': 'distance'},\n",
       " {'n_neighbors': 25, 'weights': 'uniform'},\n",
       " {'n_neighbors': 25, 'weights': 'distance'},\n",
       " {'n_neighbors': 26, 'weights': 'uniform'},\n",
       " {'n_neighbors': 26, 'weights': 'distance'},\n",
       " {'n_neighbors': 27, 'weights': 'uniform'},\n",
       " {'n_neighbors': 27, 'weights': 'distance'},\n",
       " {'n_neighbors': 28, 'weights': 'uniform'},\n",
       " {'n_neighbors': 28, 'weights': 'distance'},\n",
       " {'n_neighbors': 29, 'weights': 'uniform'},\n",
       " {'n_neighbors': 29, 'weights': 'distance'}]"
      ]
     },
     "execution_count": 23,
     "metadata": {},
     "output_type": "execute_result"
    }
   ],
   "source": [
    "knn_r.cv_results_[\"params\"]"
   ]
  },
  {
   "cell_type": "markdown",
   "metadata": {},
   "source": [
    "#### The mean_test_score key gives the score for each of the above combinations on the CV"
   ]
  },
  {
   "cell_type": "code",
   "execution_count": 24,
   "metadata": {},
   "outputs": [
    {
     "data": {
      "text/plain": [
       "array([ 0.65196087,  0.65196087,  0.68616272,  0.70788426,  0.72378716,\n",
       "        0.75479941,  0.70218773,  0.74137525,  0.71139667,  0.74532754,\n",
       "        0.71158707,  0.74667568,  0.70462123,  0.74202155,  0.70471201,\n",
       "        0.73864603,  0.69630483,  0.73255173,  0.6917272 ,  0.72737057,\n",
       "        0.68728466,  0.72377333,  0.68379587,  0.72158735,  0.67545972,\n",
       "        0.71550431,  0.66517757,  0.70823355,  0.66014866,  0.70418569,\n",
       "        0.65604771,  0.70022502,  0.64678475,  0.69265114,  0.64227177,\n",
       "        0.68867076,  0.637639  ,  0.68481846,  0.63235158,  0.68043671,\n",
       "        0.62473719,  0.67383375,  0.6193789 ,  0.66944228,  0.61344146,\n",
       "        0.66430505,  0.60576799,  0.65794801,  0.59871414,  0.65225043,\n",
       "        0.59372617,  0.64816131,  0.58921686,  0.64458522,  0.58606534,\n",
       "        0.64094321,  0.5806255 ,  0.63642241])"
      ]
     },
     "execution_count": 24,
     "metadata": {},
     "output_type": "execute_result"
    }
   ],
   "source": [
    "knn_r.cv_results_[\"mean_test_score\"]"
   ]
  },
  {
   "cell_type": "markdown",
   "metadata": {},
   "source": [
    "#### Score on testing data"
   ]
  },
  {
   "cell_type": "code",
   "execution_count": 26,
   "metadata": {},
   "outputs": [
    {
     "data": {
      "text/plain": [
       "0.88741690895044401"
      ]
     },
     "execution_count": 26,
     "metadata": {},
     "output_type": "execute_result"
    }
   ],
   "source": [
    "knn_r.score(X_test, y_test)"
   ]
  },
  {
   "cell_type": "markdown",
   "metadata": {},
   "source": [
    "# Classification\n",
    "Following the R demonstration, we can also do classfication, first we'll need to convert the distances to three different groupings"
   ]
  },
  {
   "cell_type": "code",
   "execution_count": 28,
   "metadata": {},
   "outputs": [
    {
     "data": {
      "text/plain": [
       "(240, 179, 87)"
      ]
     },
     "execution_count": 28,
     "metadata": {},
     "output_type": "execute_result"
    }
   ],
   "source": [
    "new_boston = {\"data\": [],\n",
    "              \"target\": []}\n",
    "\n",
    "for i, arr in enumerate(boston[\"data\"]):\n",
    "    \n",
    "    new_arr = arr\n",
    "    \n",
    "    if arr[7] < 3:\n",
    "        new_boston[\"target\"].append(\"short\")\n",
    "    elif arr[7] < 6:\n",
    "        new_boston[\"target\"].append(\"medium\")\n",
    "    else:\n",
    "        new_boston[\"target\"].append(\"long\")\n",
    "        \n",
    "    new_arr = np.delete(new_arr, 7)\n",
    "    new_arr = np.append(new_arr, boston[\"target\"][i])\n",
    "\n",
    "    new_boston[\"data\"].append(new_arr)\n",
    "    \n",
    "new_boston[\"target\"].count(\"short\"), new_boston[\"target\"].count(\"medium\"), new_boston[\"target\"].count(\"long\")"
   ]
  },
  {
   "cell_type": "markdown",
   "metadata": {},
   "source": [
    "#### Now we can reassign the new data to training and testing"
   ]
  },
  {
   "cell_type": "code",
   "execution_count": 29,
   "metadata": {},
   "outputs": [],
   "source": [
    "X, y = shuffle(new_boston[\"data\"], new_boston[\"target\"], random_state=1)\n",
    "X_train, X_test, y_train, y_test = train_test_split(X, y, train_size=0.8, test_size=0.2)\n",
    "\n",
    "scaler = preprocessing.StandardScaler().fit(X_train)\n",
    "X_train = scaler.transform(X_train)\n",
    "X_test = scaler.transform(X_test)"
   ]
  },
  {
   "cell_type": "code",
   "execution_count": 30,
   "metadata": {},
   "outputs": [
    {
     "data": {
      "text/plain": [
       "GridSearchCV(cv=None, error_score='raise',\n",
       "       estimator=KNeighborsClassifier(algorithm='auto', leaf_size=30, metric='minkowski',\n",
       "           metric_params=None, n_jobs=1, n_neighbors=5, p=2,\n",
       "           weights='uniform'),\n",
       "       fit_params=None, iid=True, n_jobs=1,\n",
       "       param_grid={'n_neighbors': array([ 1,  2,  3,  4,  5,  6,  7,  8,  9, 10, 11, 12, 13, 14, 15, 16, 17,\n",
       "       18, 19, 20, 21, 22, 23, 24, 25, 26, 27, 28, 29]), 'weights': ['uniform', 'distance']},\n",
       "       pre_dispatch='2*n_jobs', refit=True, return_train_score='warn',\n",
       "       scoring=None, verbose=0)"
      ]
     },
     "execution_count": 30,
     "metadata": {},
     "output_type": "execute_result"
    }
   ],
   "source": [
    "param_grid = {'n_neighbors': np.arange(1, int(k+(k/2)), 1),\n",
    "              'weights': [\"uniform\", \"distance\"]}\n",
    "\n",
    "knn_c = GridSearchCV(neighbors.KNeighborsClassifier(), param_grid)\n",
    "knn_c.fit(X_train, y_train)"
   ]
  },
  {
   "cell_type": "code",
   "execution_count": 40,
   "metadata": {},
   "outputs": [
    {
     "data": {
      "text/plain": [
       "{'n_neighbors': 3, 'weights': 'distance'}"
      ]
     },
     "execution_count": 40,
     "metadata": {},
     "output_type": "execute_result"
    }
   ],
   "source": [
    "knn_r.best_params_"
   ]
  },
  {
   "cell_type": "code",
   "execution_count": 36,
   "metadata": {},
   "outputs": [
    {
     "data": {
      "text/plain": [
       "0.82352941176470584"
      ]
     },
     "execution_count": 36,
     "metadata": {},
     "output_type": "execute_result"
    }
   ],
   "source": [
    "knn_c.score(X_test, y_test)"
   ]
  }
 ],
 "metadata": {
  "kernelspec": {
   "display_name": "Python 3",
   "language": "python",
   "name": "python3"
  },
  "language_info": {
   "codemirror_mode": {
    "name": "ipython",
    "version": 3
   },
   "file_extension": ".py",
   "mimetype": "text/x-python",
   "name": "python",
   "nbconvert_exporter": "python",
   "pygments_lexer": "ipython3",
   "version": "3.6.3"
  }
 },
 "nbformat": 4,
 "nbformat_minor": 2
}
